{
 "cells": [
  {
   "cell_type": "markdown",
   "id": "59ca3039",
   "metadata": {},
   "source": [
    "### https://github.com/jeremyephron/simplegmail\n",
    "- có các bước thực hiện \n",
    "- ví dụ về cách lấy và các hàm ứng dụng\n",
    "- Các chức năng:\n",
    "    - message.recipient : người nhận\n",
    "    - message.sender : người gửi\n",
    "    - message.subject : tiêu đề mail\n",
    "    - message.date : ngày gửi mail\n",
    "    - message.snippet: cho xem 1 đoạn trước mail \n",
    "    - message.plain : định dạng email chứa định dạng thuần"
   ]
  },
  {
   "cell_type": "code",
   "execution_count": 1,
   "id": "d9f45fbb",
   "metadata": {},
   "outputs": [
    {
     "name": "stderr",
     "output_type": "stream",
     "text": [
      "/home/duyennt/Demi/MIC/SUPPOST/Test_code/.venv/lib/python3.10/site-packages/oauth2client/_helpers.py:255: UserWarning: Cannot access gmail_token.json: No such file or directory\n",
      "  warnings.warn(_MISSING_FILE_MESSAGE.format(filename))\n"
     ]
    },
    {
     "name": "stdout",
     "output_type": "stream",
     "text": [
      "\n",
      "Your browser has been opened to visit:\n",
      "\n",
      "    https://accounts.google.com/o/oauth2/auth?client_id=722231197408-7057ud74gsbnu49rgp3mdeerh4m5ek1b.apps.googleusercontent.com&redirect_uri=http%3A%2F%2Flocalhost%3A8080%2F&scope=https%3A%2F%2Fwww.googleapis.com%2Fauth%2Fgmail.modify+https%3A%2F%2Fwww.googleapis.com%2Fauth%2Fgmail.settings.basic&access_type=offline&response_type=code&prompt=consent\n",
      "\n",
      "If your browser is on a different machine then exit and re-run this\n",
      "application with the command-line parameter\n",
      "\n",
      "  --noauth_local_webserver\n",
      "\n",
      "Authentication successful.\n",
      "\n"
     ]
    }
   ],
   "source": [
    "from simplegmail import Gmail\n",
    "\n",
    "gmail = Gmail()\n",
    "print()\n"
   ]
  },
  {
   "cell_type": "code",
   "execution_count": null,
   "id": "7bcb1967",
   "metadata": {},
   "outputs": [],
   "source": [
    "from simplegmail import Gmail\n",
    "from simplegmail.query import construct_query\n",
    "\n",
    "gmail = Gmail()\n",
    "\n",
    "labels = gmail.list_labels()\n",
    "query_params = {\n",
    "    \"newer_than\": (1, \"days\"),\n",
    "    # \"unread\" : True,\n",
    "    # \"labels\": [[\"Kaggle\"]]\n",
    "}\n",
    "messages = gmail.get_sent_messages(query=construct_query(query_params))\n",
    "for message in messages:\n",
    "    print(f\"From: {message.sender}\")\n",
    "    print(f\"To: {message.recipient}\")\n",
    "    print(f\"Subject: {message.subject}\")\n",
    "    print(f\"Date: {message.date}\")\n",
    "    print(f\"Snippet: {message.snippet}\")\n",
    "    print(f\"Plain Text: {message.plain}\\n\")\n",
    "    print(f\"Attachments: {message.attachments}\")\n",
    "    print(f\"HTML: {message.html}\\n\")\n"
   ]
  },
  {
   "cell_type": "code",
   "execution_count": 7,
   "id": "6073b987",
   "metadata": {},
   "outputs": [
    {
     "data": {
      "text/plain": [
       "[]"
      ]
     },
     "execution_count": 7,
     "metadata": {},
     "output_type": "execute_result"
    }
   ],
   "source": [
    "messages"
   ]
  },
  {
   "cell_type": "code",
   "execution_count": null,
   "id": "31927f93",
   "metadata": {},
   "outputs": [],
   "source": []
  }
 ],
 "metadata": {
  "kernelspec": {
   "display_name": ".venv",
   "language": "python",
   "name": "python3"
  },
  "language_info": {
   "codemirror_mode": {
    "name": "ipython",
    "version": 3
   },
   "file_extension": ".py",
   "mimetype": "text/x-python",
   "name": "python",
   "nbconvert_exporter": "python",
   "pygments_lexer": "ipython3",
   "version": "3.10.18"
  }
 },
 "nbformat": 4,
 "nbformat_minor": 5
}
