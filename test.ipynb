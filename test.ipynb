{
 "cells": [
  {
   "cell_type": "code",
   "execution_count": 2,
   "id": "a62a8956",
   "metadata": {},
   "outputs": [
    {
     "data": {
      "text/plain": [
       "'allowed_subjects.xlsx'"
      ]
     },
     "execution_count": 2,
     "metadata": {},
     "output_type": "execute_result"
    }
   ],
   "source": [
    "import openpyxl\n",
    "\n",
    "# Tạo workbook mới\n",
    "wb = openpyxl.Workbook()\n",
    "ws = wb.active\n",
    "ws.title = \"AllowedSubjects\"\n",
    "\n",
    "# Ghi header\n",
    "ws.append([\"id\", \"subject\"])\n",
    "\n",
    "# Ghi một dòng dữ liệu\n",
    "ws.append([1, \"NỘP CV\"])\n",
    "\n",
    "# Lưu file\n",
    "file_path = \"allowed_subjects.xlsx\"\n",
    "wb.save(file_path)\n",
    "\n",
    "file_path\n"
   ]
  },
  {
   "cell_type": "code",
   "execution_count": null,
   "id": "b2ad2eae",
   "metadata": {},
   "outputs": [],
   "source": []
  }
 ],
 "metadata": {
  "kernelspec": {
   "display_name": ".venv",
   "language": "python",
   "name": "python3"
  },
  "language_info": {
   "codemirror_mode": {
    "name": "ipython",
    "version": 3
   },
   "file_extension": ".py",
   "mimetype": "text/x-python",
   "name": "python",
   "nbconvert_exporter": "python",
   "pygments_lexer": "ipython3",
   "version": "3.10.18"
  }
 },
 "nbformat": 4,
 "nbformat_minor": 5
}
